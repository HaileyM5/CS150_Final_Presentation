{
 "cells": [
  {
   "cell_type": "code",
   "execution_count": 1,
   "id": "70dc79e0",
   "metadata": {},
   "outputs": [
    {
     "name": "stdout",
     "output_type": "stream",
     "text": [
      "\n",
      "Enter a year betweeen 1997 and 2022. 2015\n",
      "The winner in 2015  was the Minnesota Lynx\n",
      "The runner-up in 2015  was the  Indiana Fever\n",
      "The MVP in 2015  was  Sylvia Fowles\n",
      "The winner in  2015 won in 5 games\n",
      "Would you like to enter another response? (y/n)y\n",
      "\n",
      "Enter a year betweeen 1997 and 2022. 2006\n",
      "The winner in 2006  was the Detriot Shock\n",
      "The runner-up in 2006  was the  Sacramento Monarchs\n",
      "The MVP in 2006  was  Deanna Nolan\n",
      "The winner in  2006 won in 5 games\n",
      "Would you like to enter another response? (y/n)y\n",
      "\n",
      "Enter a year betweeen 1997 and 2022. 1998\n",
      "The winner in 1998  was the Houston Comets\n",
      "The runner-up in 1998  was the  New York Liberty\n",
      "The MVP in 1998  was  Cynthia Cooper\n",
      "The winner in  1998 won in 3 games\n",
      "Would you like to enter another response? (y/n)n\n"
     ]
    }
   ],
   "source": [
    "active=True\n",
    "\n",
    "\n",
    "while active:\n",
    "    #dictionary with winners from each season\n",
    "    champ_dict={1997:\"Houston Comets\", 1998:\"Houston Comets\", 1999:\"Houston Comets\", 2000:\"Houston Comets\", 2001:\"Los Angeles Sparks\", 2002:\"Los Angeles Sparks\", 2003:\"Detriot Shock\", 2004:\"Seattle Storm\", 2005:\"Sacramento Monarchs\", 2006:\"Detriot Shock\", 2007:\"Phoenix Mercury\",2008:\" Detriot Shock\", 2009:\"Phoenix Mercury\",2010:\"Seattle Storm\", 2011:\"Minnesota Lynx\", 2012:\"Indiana Fever\", 2013:\"Minnesota Lynx\",2014:\"Phoenix Mercury\",2015:\"Minnesota Lynx\", 2016:\"Los Angeles Sparks\", 2017:\"Minnesota Lynx\", 2018:\"Seattle Storm\", 2019:\"Washington Mystics\", 2020:\"Seattle Storm\", 2021:\"Chicago Sky\", 2022:\"Las Vegas Aces\"}\n",
    "\n",
    "    #dictionary for the runner-ups of every season   \n",
    "    runnerup_dict={1997:\"New York Liberty\", 1998:\"New York Liberty\", 1999:\"New York Liberty\", 2000:\"New York Liberty\", 2001:\"Charlotte Sting\", 2002:\"New York Liberty\", 2003:\"Los Angeles Sparks\", 2004:\"Connecticut Sun\", 2005:\"Connecticut Sun\", 2006:\"Sacramento Monarchs\", 2007:\"Detriot Shock\",2008:\"San Antonio Silver Stars\", 2009:\"Indiana Fever\",2010:\"Atlanta Dream\", 2011:\"Atlanta Dream\", 2012:\"Minnesota Lynx\", 2013:\"Atlanta Dream\",2014:\"Chicago Sky\",2015:\"Indiana Fever\", 2016:\"Minnesota Lynx\", 2017:\"Los Angeles Sparks\", 2018:\"Washington Mystics\", 2019:\"Connecticut Sun\", 2020:\"Las Vegas Aces\", 2021:\"Pheonix Mercury\", 2022:\"Connecticut Sun\"}\n",
    "\n",
    "    #dictionary for the finals MVP winners for each season\n",
    "    mvp_dict={1997:\"Cynthia Cooper\", 1998:\"Cynthia Cooper\", 1999:\"Cynthia Cooper\", 2000:\"Cynthia Cooper\", 2001:\"Lisa Leslie\", 2002:\"Lisa Leslie\", 2003:\"Ruth Riley\", 2004:\"Betty Lennox\", 2005:\"Yolanda Griffith\", 2006:\"Deanna Nolan\", 2007:\"Cappie Pondexter\", 2008:\"Katie Smith\", 2009:\"Diana Taurasi\", 2010:\"Lauren Jackson\", 2011:\"Seimone Augustus\", 2012:\"Tamika Catchings\",2013:\"Maya Moore\", 2014:\"Diana Taurasi\", 2015:\"Sylvia Fowles\", 2016:\"Candace Parker\", 2017:\"Sylvia Fowles\", 2018:\"Breanna Stewart\", 2019:\"Emma Meesseman\", 2020:\"Breanna Stewart\", 2021:\"Kahleah Cooper\", 2022:\"Chelsea Grey\"}\n",
    "\n",
    "    #dictionary for the the how many games the series took\n",
    "    series_dict={1997:\"1\", 1998:\"3\", 1999:\"3\", 2000:\"2\", 2001:\"2\", 2002:\"2\", 2003:\"3\", 2004:\"3\", 2005:\"4\", 2006:\"5\", 2007:\"5\", 2008:\"3\", 2009:\"5\", 2010:\"3\", 2011:\"3\", 2012:\"4\",2013:\"3\", 2014:\"3\", 2015:\"5\", 2016:\"5\", 2017:\"5\", 2018:\"3\", 2019:\"5\", 2020:\"3\", 2021:\"4\", 2022:\"4\"}\n",
    "\n",
    "\n",
    "     #asks user for name and response(value)\n",
    "    key=int(input(\"\\nEnter a year betweeen 1997 and 2022. \"))\n",
    "    \n",
    "    \n",
    "    \n",
    "    # check if the key exists in the dictionary\n",
    "    if key in champ_dict:\n",
    "        value = champ_dict[key]\n",
    "        print(\"The winner in\", key, \" was the\", value) #print the winner with the key\n",
    "    else:\n",
    "        print(key, \"is not in the dictionary.\") #if the key is not in the dictionary, this will tell you that\n",
    " \n",
    "    \n",
    "    \n",
    "    # check if the key entered exists in the dictionary\n",
    "    if key in runnerup_dict:\n",
    "        value = runnerup_dict[key]\n",
    "        print(\"The runner-up in\", key, \" was the \", value)\n",
    "    else:\n",
    "        print(key, \"is not in the dictionary.\") #if the key is not in the dictionary, this will tell you that\n",
    "        \n",
    "    \n",
    "   \n",
    "    #check if the key entered exists in the dictionary\n",
    "    if key in mvp_dict:\n",
    "        value = mvp_dict[key]\n",
    "        print(\"The MVP in\", key, \" was \", value)\n",
    "    else:\n",
    "        print(key, \"is not in the dictionary.\") #if the key is not in the dictionary, this will tell you that\n",
    "\n",
    "   \n",
    "    #check if the key entered exists in the dictionary\n",
    "    if key in series_dict:\n",
    "        value = series_dict[key]\n",
    "        print(\"The winner in \" , key , \"won in\" , value , \"games\" )\n",
    "    else:\n",
    "        print(key, \"is not in the dictionary.\") #if the key is not in the dictionary, this will tell you that\n",
    "    \n",
    "    \n",
    "    repeat=input(\"Would you like to enter another response? (y/n)\")\n",
    "    if repeat=='n' :\n",
    "        break     \n"
   ]
  },
  {
   "cell_type": "markdown",
   "id": "6ca034a4",
   "metadata": {},
   "source": []
  }
 ],
 "metadata": {
  "kernelspec": {
   "display_name": "Python 3 (ipykernel)",
   "language": "python",
   "name": "python3"
  },
  "language_info": {
   "codemirror_mode": {
    "name": "ipython",
    "version": 3
   },
   "file_extension": ".py",
   "mimetype": "text/x-python",
   "name": "python",
   "nbconvert_exporter": "python",
   "pygments_lexer": "ipython3",
   "version": "3.9.13"
  }
 },
 "nbformat": 4,
 "nbformat_minor": 5
}
